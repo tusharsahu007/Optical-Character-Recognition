{
  "nbformat": 4,
  "nbformat_minor": 0,
  "metadata": {
    "colab": {
      "provenance": [],
      "gpuType": "T4"
    },
    "kernelspec": {
      "name": "python3",
      "display_name": "Python 3"
    },
    "language_info": {
      "name": "python"
    },
    "accelerator": "GPU"
  },
  "cells": [
    {
      "cell_type": "code",
      "execution_count": 1,
      "metadata": {
        "id": "elkM0rGOGQDa"
      },
      "outputs": [],
      "source": [
        "import os\n",
        "import cv2\n",
        "from PIL import Image\n",
        "import skimage.io as io\n",
        "import numpy as np\n",
        "from matplotlib import pyplot as plt\n",
        "%matplotlib inline\n",
        "from skimage.filters import threshold_otsu\n",
        "from skimage.morphology import erosion, dilation\n",
        "import seaborn as sns\n",
        "from sklearn.linear_model import LogisticRegression\n",
        "from sklearn.svm import SVC\n",
        "from sklearn import svm\n",
        "from sklearn.ensemble import RandomForestClassifier\n",
        "from sklearn.model_selection import train_test_split\n",
        "from sklearn.metrics import confusion_matrix, classification_report\n",
        "from skimage.feature import hog\n",
        "from sklearn.model_selection import GridSearchCV\n",
        "from keras.models import Sequential\n",
        "from keras.layers import Conv2D, MaxPooling2D, Flatten, Dense\n",
        "from sklearn.metrics import accuracy_score, precision_score, recall_score, f1_score\n",
        "from sklearn.model_selection import train_test_split\n",
        "from PIL import Image\n",
        "from keras.utils import to_categorical\n",
        "import pandas as pd\n",
        ""
      ]
    },
    {
      "cell_type": "markdown",
      "source": [
        "# **Image Preprocessing**\n",
        "\n",
        "Our first task is to split the combined images into 5 parts containing single letters. We apply image preprocessing after the split as the function parameters which we use can be different for different parts of the same image depending on the noise concentration or the contrast or the pixel intensities of that part.\n",
        "\n"
      ],
      "metadata": {
        "id": "3Y1uAqGIMSUS"
      }
    },
    {
      "cell_type": "code",
      "source": [
        "def split(image):\n",
        "    # Get the dimensions of the image\n",
        "    width, height = image.size\n",
        "\n",
        "    # Calculate the width and height of each part\n",
        "    part_width = width // 5\n",
        "    part_height = height\n",
        "\n",
        "    image_parts = []  #image_parts list which will contain the final parts after the split\n",
        "\n",
        "    # Divide the image into parts and append to image_parts list\n",
        "\n",
        "    for i in range(5):\n",
        "        # Calculate the coordinates for cropping each part\n",
        "        left = i * part_width\n",
        "        upper = 0\n",
        "        right = left + part_width\n",
        "        lower = part_height\n",
        "\n",
        "        # Crop the part from the image\n",
        "        part = image.crop((left, upper, right, lower))\n",
        "\n",
        "        # Append the part to the list\n",
        "        image_parts.append(part)\n",
        "\n",
        "    return image_parts\n",
        ""
      ],
      "metadata": {
        "id": "8zjqZGI-LpZS"
      },
      "execution_count": 2,
      "outputs": []
    },
    {
      "cell_type": "markdown",
      "source": [
        "The following cell needs to be executed only once to create the samples_split folder which will contain the 5000 individual character images after the split.\n",
        "\n",
        "On observing the image name contains the letters in the image in order. So, after splitting we are saving the part names in the format -\n",
        "\n",
        "[ letter ][ image_name ].png"
      ],
      "metadata": {
        "id": "J3iDH826MuVh"
      }
    },
    {
      "cell_type": "code",
      "source": [
        "images_folder = \"/content/drive/MyDrive/Colab Notebooks/samples1000\"\n",
        "output_folder = \"/content/drive/MyDrive/Colab Notebooks/sample_split\"\n",
        "\n",
        "\n",
        "os.makedirs(output_folder, exist_ok=True)\n",
        "\n",
        "# Preprocess each image and save in new directory\n",
        "for image_name in os.listdir(images_folder):\n",
        "    # Construct the full path to the image\n",
        "    image_path = os.path.join(images_folder, image_name)\n",
        "    image = Image.open(image_path)\n",
        "    image_parts = split(image)\n",
        "\n",
        "    for i,part in enumerate(image_parts):\n",
        "      part_name = os.path.basename(image_path)\n",
        "      part_name = part_name[i]+part_name\n",
        "      output_path = os.path.join(output_folder,part_name)\n",
        "      part.save(output_path)\n",
        ""
      ],
      "metadata": {
        "id": "g-Kv_9Z3MkLf"
      },
      "execution_count": 23,
      "outputs": []
    },
    {
      "cell_type": "markdown",
      "source": [
        "Here we start defining the various image preprocessing functions that we have tried and tested to remove the noise and make the character more clear to improve our dataset.\n",
        "\n",
        "We are passing image object as the parameter in our functions and have to convert it to a numpy array to apply the preprocessing technique and then convert it back into an image object before returning it."
      ],
      "metadata": {
        "id": "ZY2fORNcNhxc"
      }
    },
    {
      "cell_type": "code",
      "source": [
        "def grayscale(image):\n",
        "    # Convert the image to grayscale: Reduces dimensionality and removes color\n",
        "    grayscale_image = image.convert('L')\n",
        "    return grayscale_image"
      ],
      "metadata": {
        "id": "RVsRfy8mNevc"
      },
      "execution_count": 4,
      "outputs": []
    },
    {
      "cell_type": "markdown",
      "source": [
        "# **MORPHOLOGICAL OPERATIONS**"
      ],
      "metadata": {
        "id": "_pPE8aHtNqTm"
      }
    },
    {
      "cell_type": "code",
      "source": [
        "def erode(image):\n",
        "    # Convert image into NumPy array\n",
        "    image_array = np.array(image)\n",
        "    # Define the kernel for erosion\n",
        "    kernel = np.ones((3, 3), np.uint8)\n",
        "    # Perform image erosion\n",
        "    eroded_image = cv2.erode(image_array, kernel, iterations=3)\n",
        "    # Convert the NumPy array back to image object\n",
        "    eroded_image = Image.fromarray(eroded_image)\n",
        "    return eroded_image\n",
        ""
      ],
      "metadata": {
        "id": "zuwfbIxVNnVE"
      },
      "execution_count": 5,
      "outputs": []
    },
    {
      "cell_type": "code",
      "source": [
        "# DILATION : Increases the size of object. Fills holes in the object if any.\n",
        "def dilate(image):\n",
        "    image_array = np.array(image)\n",
        "    # Define the kernel for erosion\n",
        "    kernel = np.ones((3, 3), np.uint8)\n",
        "    # Perform image dilation\n",
        "    dilated_image = cv2.dilate(image_array, kernel, iterations=2)\n",
        "    dilated_image = Image.fromarray(dilated_image)\n",
        "    return dilated_image"
      ],
      "metadata": {
        "id": "p0-bDwF6NzoY"
      },
      "execution_count": 6,
      "outputs": []
    },
    {
      "cell_type": "code",
      "source": [
        "def opening(image):\n",
        "    image_array = np.array(image)\n",
        "    kernel = np.ones((3, 3), np.uint8)\n",
        "    opening = cv2.morphologyEx(image_array, cv2.MORPH_OPEN, kernel, iterations=2)\n",
        "    opened = Image.fromarray(opening)\n",
        "    return opened"
      ],
      "metadata": {
        "id": "sKZQAqABN238"
      },
      "execution_count": 7,
      "outputs": []
    },
    {
      "cell_type": "code",
      "source": [
        "def gaussian_blur(image):\n",
        "    image_array = np.array(image)\n",
        "    # Apply Gaussian blur\n",
        "    blurred_image = cv2.GaussianBlur(image_array, (11,11), 0)\n",
        "    blurred_image = Image.fromarray(blurred_image)\n",
        "    return blurred_image\n",
        ""
      ],
      "metadata": {
        "id": "OG8CRR1wObhj"
      },
      "execution_count": 8,
      "outputs": []
    },
    {
      "cell_type": "code",
      "source": [
        "def median_filter(image):\n",
        "    image_array = np.array(image)\n",
        "    # Apply median filtering\n",
        "    filtered_image = cv2.medianBlur(image_array, 9)\n",
        "    filtered_image = Image.fromarray(filtered_image)\n",
        "    return filtered_image\n",
        ""
      ],
      "metadata": {
        "id": "SZ2FAR1xOcJn"
      },
      "execution_count": 9,
      "outputs": []
    },
    {
      "cell_type": "code",
      "source": [
        "def bilateral_filter(image):\n",
        "    image_array = np.array(image)\n",
        "    filtered_image = cv2.bilateralFilter(image_array, 9, 75, 75)\n",
        "    filtered_image = Image.fromarray(filtered_image)\n",
        "    return filtered_image"
      ],
      "metadata": {
        "id": "C9v45FWsOfRB"
      },
      "execution_count": 10,
      "outputs": []
    },
    {
      "cell_type": "code",
      "source": [
        "def threshold(image):\n",
        "    image_array = np.array(image)\n",
        "    # Apply binary thresholding\n",
        "    _, thresholded_image = cv2.threshold(image_array, 200, 255, cv2.THRESH_BINARY)\n",
        "    thresholded_image = Image.fromarray(thresholded_image)\n",
        "    return thresholded_image"
      ],
      "metadata": {
        "id": "fAKDWRUiOhWA"
      },
      "execution_count": 11,
      "outputs": []
    },
    {
      "cell_type": "code",
      "source": [
        "def adaptive_threshold(image):\n",
        "    image_array = np.array(image)\n",
        "    thresholded_image = cv2.adaptiveThreshold(image_array, 255, cv2.ADAPTIVE_THRESH_MEAN_C, cv2.THRESH_BINARY, 13, 2)\n",
        "    thresholded_image = Image.fromarray(thresholded_image)\n",
        "    return thresholded_image"
      ],
      "metadata": {
        "id": "UIj7NvuVOjgp"
      },
      "execution_count": 12,
      "outputs": []
    },
    {
      "cell_type": "code",
      "source": [
        "def otsu_threshold(image):\n",
        "    image_array = np.array(image)\n",
        "    _, otsu_thresholded_image = cv2.threshold(image_array, 0, 255, cv2.THRESH_BINARY + cv2.THRESH_OTSU)\n",
        "    otsu_thresholded_image = Image.fromarray(otsu_thresholded_image)\n",
        "    return otsu_thresholded_image"
      ],
      "metadata": {
        "id": "CrL8SP4MOn1j"
      },
      "execution_count": 13,
      "outputs": []
    },
    {
      "cell_type": "code",
      "source": [
        "def denoise(image):\n",
        "    image_array = np.array(image)\n",
        "    # Apply fast NlMeans Denoising\n",
        "    denoised_array = cv2.fastNlMeansDenoising(image_array, None, 10, 10, 7)\n",
        "    denoised_image = Image.fromarray(denoised_array)\n",
        "    return denoised_image"
      ],
      "metadata": {
        "id": "KzSh8CFWOoKm"
      },
      "execution_count": 14,
      "outputs": []
    },
    {
      "cell_type": "code",
      "source": [
        "def histogram_equalization(image):\n",
        "    image_array = np.array(image)\n",
        "    # Apply histogram equalization\n",
        "    equalized_image = cv2.equalizeHist(image_array)\n",
        "    equalized_image = Image.fromarray(equalized_image)\n",
        "    return equalized_image"
      ],
      "metadata": {
        "id": "z3crpC-oOsOS"
      },
      "execution_count": 15,
      "outputs": []
    },
    {
      "cell_type": "code",
      "source": [
        "def resize(image):\n",
        "    image_array = np.array(image)\n",
        "    # Apply histogram equalization\n",
        "    resized_array = cv2.resize(image_array, (64, 128), interpolation=cv2.INTER_AREA)\n",
        "    resized_image = Image.fromarray(resized_array)\n",
        "    return resized_image"
      ],
      "metadata": {
        "id": "W-JZpHmaOvGI"
      },
      "execution_count": 16,
      "outputs": []
    },
    {
      "cell_type": "code",
      "source": [
        "def deskew(image):\n",
        "    # Convert image to grayscale\n",
        "    image_gray = image\n",
        "    image_array = np.array(image_gray)\n",
        "    # Apply thresholding to create binary image\n",
        "    _, thresholded_image = cv2.threshold(image_array, 0, 255, cv2.THRESH_BINARY_INV + cv2.THRESH_OTSU)\n",
        "    # Find contours in the binary image\n",
        "    contours, _ = cv2.findContours(thresholded_image, cv2.RETR_EXTERNAL, cv2.CHAIN_APPROX_SIMPLE)\n",
        "    # Sort contours by their area in descending order\n",
        "    contours = sorted(contours, key=cv2.contourArea, reverse=True)[:5]\n",
        "    # Deskew each contour\n",
        "    deskewed_images = []\n",
        "    for contour in contours:\n",
        "        # Find the minimum area rectangle enclosing the contour\n",
        "        rect = cv2.minAreaRect(contour)\n",
        "        # Calculate the angle of rotation\n",
        "        angle = rect[2]\n",
        "        # Rotate the image to deskew it\n",
        "        rotated_image = Image.fromarray(image_array)\n",
        "        rotated_image = rotated_image.rotate(-angle)\n",
        "        deskewed_images.append(np.array(rotated_image))\n",
        "    return deskewed_images"
      ],
      "metadata": {
        "id": "tea8Pd0fOxlP"
      },
      "execution_count": 17,
      "outputs": []
    },
    {
      "cell_type": "code",
      "source": [
        "def preprocess(img):\n",
        "    img = resize(img)\n",
        "    img = grayscale(img)\n",
        "    img = histogram_equalization(img)\n",
        "    img = dilate(img)\n",
        "    img = denoise(img)\n",
        "    img = median_filter(img)\n",
        "    return img\n",
        "\n",
        "image_path = \"/content/drive/MyDrive/Colab Notebooks/sample_split/afubla.png\"   # Sample image\n",
        "image = Image.open(image_path)\n",
        "preprocessed_image = preprocess(image)\n",
        "\n",
        "# Plot the original and the binary image\n",
        "fig, (ax1, ax2) = plt.subplots(2, 1, figsize=(1, 4))\n",
        "ax1.imshow(image, 'gray', aspect='auto')\n",
        "ax1.set_title('Original image')\n",
        "ax1.set_xticks([])\n",
        "ax1.set_yticks([])\n",
        "ax2.imshow(preprocessed_image, 'gray', aspect='auto')\n",
        "ax2.set_title('Preprocessed image')\n",
        "ax2.set_xticks([])\n",
        "ax2.set_yticks([])\n",
        "plt.tight_layout()\n",
        "plt.show()"
      ],
      "metadata": {
        "colab": {
          "base_uri": "https://localhost:8080/",
          "height": 407
        },
        "id": "_DMXJ2ziO30M",
        "outputId": "30615d4c-0184-4822-a832-1a8ce374fa6d"
      },
      "execution_count": 18,
      "outputs": [
        {
          "output_type": "display_data",
          "data": {
            "text/plain": [
              "<Figure size 100x400 with 2 Axes>"
            ],
            "image/png": "[encoded data removed]"
          },
          "metadata": {}
        }
      ]
    },
    {
      "cell_type": "markdown",
      "source": [
        "# **Machine Learning**\n",
        "Now, we begin the Machine Learning part.\n",
        "\n",
        "We have created functions to extract features, load our images and then prepare a features dataset for all the images."
      ],
      "metadata": {
        "id": "Mqfl-CupPpF2"
      }
    },
    {
      "cell_type": "code",
      "source": [
        "def extract_features(image):\n",
        "    # Extract HOG features\n",
        "    features = hog(image, orientations=9, pixels_per_cell=(8, 8), cells_per_block=(1, 1))\n",
        "    return features"
      ],
      "metadata": {
        "id": "U_ldqtIiPs-2"
      },
      "execution_count": 19,
      "outputs": []
    },
    {
      "cell_type": "code",
      "source": [
        "def load_images(folder_path):\n",
        "    images = []\n",
        "    labels = []\n",
        "    number = [0]*26\n",
        "    for part_name in os.listdir(folder_path):\n",
        "        image_path = os.path.join(folder_path, part_name)\n",
        "        image = Image.open(image_path)\n",
        "        part_name = os.path.basename(image_path)\n",
        "        number[ord(part_name[0])-ord('a')]+=1\n",
        "        image = preprocess(image)\n",
        "        images.append(image)\n",
        "\n",
        "        labels.append(part_name[0])  # Part name format is [label][part_name].png\n",
        "    return images, labels, number"
      ],
      "metadata": {
        "id": "aeXKI-RcPwZC"
      },
      "execution_count": 20,
      "outputs": []
    },
    {
      "cell_type": "code",
      "source": [
        "def prepare_data(images, labels):\n",
        "    features = []\n",
        "\n",
        "    for image in images:\n",
        "        features.append(extract_features(image))\n",
        "\n",
        "    X = np.array(features,dtype=object)\n",
        "    y = np.array(labels)\n",
        "\n",
        "    return X, y"
      ],
      "metadata": {
        "id": "knU3Gx9dPzLM"
      },
      "execution_count": 21,
      "outputs": []
    },
    {
      "cell_type": "code",
      "source": [
        "# Load and prepare the data\n",
        "folder_path = \"/content/drive/MyDrive/Colab Notebooks/sample_split\"\n",
        "\n",
        "images, labels, number = load_images(folder_path)\n",
        "X, y = prepare_data(images, labels)\n",
        "\n",
        "# Split the data into train and test sets\n",
        "X_train, X_test, y_train, y_test = train_test_split(X, y, test_size=0.2, random_state=80)"
      ],
      "metadata": {
        "id": "fNJOzCWtP2r4"
      },
      "execution_count": 24,
      "outputs": []
    },
    {
      "cell_type": "code",
      "source": [
        "print(number)"
      ],
      "metadata": {
        "colab": {
          "base_uri": "https://localhost:8080/"
        },
        "id": "wD9dTQKOP-AY",
        "outputId": "3b952377-fbf9-4f4e-b76e-59bb24c63f4e"
      },
      "execution_count": 25,
      "outputs": [
        {
          "output_type": "stream",
          "name": "stdout",
          "text": [
            "[190, 181, 190, 170, 177, 180, 168, 160, 170, 190, 167, 189, 194, 185, 176, 173, 168, 163, 195, 168, 178, 166, 174, 190, 186, 199]\n"
          ]
        }
      ]
    },
    {
      "cell_type": "code",
      "source": [
        "class_labels = ['a', 'b', 'c', 'd', 'e', 'f', 'g', 'h', 'i', 'j', 'k', 'l', 'm', 'n', 'o', 'p', 'q', 'r', 's', 't', 'u', 'v', 'w', 'x', 'y', 'z']\n",
        "sns.countplot(x=labels, order=class_labels)"
      ],
      "metadata": {
        "colab": {
          "base_uri": "https://localhost:8080/",
          "height": 448
        },
        "id": "1Zaw2Dm3Rp0I",
        "outputId": "fb3f588c-38b9-4b35-9001-5b8880eca96c"
      },
      "execution_count": 26,
      "outputs": [
        {
          "output_type": "execute_result",
          "data": {
            "text/plain": [
              "<Axes: ylabel='count'>"
            ]
          },
          "metadata": {},
          "execution_count": 26
        },
        {
          "output_type": "display_data",
          "data": {
            "text/plain": [
              "<Figure size 640x480 with 1 Axes>"
            ],
            "image/png": "[encoded data removed]"
          },
          "metadata": {}
        }
      ]
    },
    {
      "cell_type": "code",
      "source": [
        "# Create and train the Logistic Regression classifier\n",
        "lrclf = LogisticRegression()\n",
        "lrclf.fit(X_train, y_train)\n",
        "y_pred = lrclf.predict(X_test)\n",
        "\n",
        "# Evaluate the Logistic Regression classifier\n",
        "lraccuracy = lrclf.score(X_test, y_test)\n",
        "print(\"LR Accuracy:\", 100*lraccuracy)\n",
        "precision = precision_score(y_test, y_pred, average='micro')\n",
        "print(\"LR Precision:\", precision)\n",
        "recall = recall_score(y_test, y_pred, average='micro')\n",
        "print(\"LR Recall:\", recall)\n",
        "f1 = f1_score(y_test, y_pred, average='micro')\n",
        "print(\"LR F1 score:\", f1)\n",
        "\n",
        "\n",
        "# Create and train the SVM classifier\n",
        "svmclf = SVC(kernel='linear')\n",
        "svmclf.fit(X_train, y_train)\n",
        "y_pred = svmclf.predict(X_test)\n",
        "# Evaluate the SVM classifier\n",
        "svmaccuracy = svmclf.score(X_test, y_test)\n",
        "print(\"SVM Accuracy:\", 100*svmaccuracy)\n",
        "precision = precision_score(y_test, y_pred, average='micro')\n",
        "print(\"SVM Precision:\", precision)\n",
        "recall = recall_score(y_test, y_pred, average='micro')\n",
        "print(\"SVM Recall:\", recall)\n",
        "f1 = f1_score(y_test, y_pred, average='micro')\n",
        "print(\"SVM F1 score:\", f1)\n",
        "\n",
        "# Create and train the Random Forest classifier\n",
        "rfclf = RandomForestClassifier(n_estimators=100)\n",
        "rfclf.fit(X_train, y_train)\n",
        "y_pred = rfclf.predict(X_test)\n",
        "# Evaluate the Random Forest classifier\n",
        "rfaccuracy = rfclf.score(X_test, y_test)\n",
        "print(\"RF Accuracy:\", 100*rfaccuracy)\n",
        "precision = precision_score(y_test, y_pred, average='micro')\n",
        "print(\"RF Precision:\", precision)\n",
        "recall = recall_score(y_test, y_pred, average='micro')\n",
        "print(\"RF Recall:\", recall)\n",
        "f1 = f1_score(y_test, y_pred, average='micro')\n",
        "print(\"RF F1 score:\", f1)"
      ],
      "metadata": {
        "colab": {
          "base_uri": "https://localhost:8080/"
        },
        "id": "XyTMeF2dR0L8",
        "outputId": "199cf922-d2dd-4320-c067-dc0ec64a2da3"
      },
      "execution_count": 27,
      "outputs": [
        {
          "output_type": "stream",
          "name": "stderr",
          "text": [
            "/usr/local/lib/python3.10/dist-packages/sklearn/linear_model/_logistic.py:458: ConvergenceWarning: lbfgs failed to converge (status=1):\n",
            "STOP: TOTAL NO. of ITERATIONS REACHED LIMIT.\n",
            "\n",
            "Increase the number of iterations (max_iter) or scale the data as shown in:\n",
            "    https://scikit-learn.org/stable/modules/preprocessing.html\n",
            "Please also refer to the documentation for alternative solver options:\n",
            "    https://scikit-learn.org/stable/modules/linear_model.html#logistic-regression\n",
            "  n_iter_i = _check_optimize_result(\n"
          ]
        },
        {
          "output_type": "stream",
          "name": "stdout",
          "text": [
            "LR Accuracy: 73.9784946236559\n",
            "LR Precision: 0.7397849462365591\n",
            "LR Recall: 0.7397849462365591\n",
            "LR F1 score: 0.7397849462365592\n",
            "SVM Accuracy: 74.94623655913979\n",
            "SVM Precision: 0.7494623655913979\n",
            "SVM Recall: 0.7494623655913979\n",
            "SVM F1 score: 0.7494623655913979\n",
            "RF Accuracy: 74.6236559139785\n",
            "RF Precision: 0.7462365591397849\n",
            "RF Recall: 0.7462365591397849\n",
            "RF F1 score: 0.7462365591397849\n"
          ]
        }
      ]
    },
    {
      "cell_type": "markdown",
      "source": [
        "We find that SVM is the best classifier among the three. We now implement GridSearchCV to find the best hyperparameter combination to maximise accuracy."
      ],
      "metadata": {
        "id": "ylXd3Z_9TRLQ"
      }
    },
    {
      "cell_type": "code",
      "source": [
        "# Create an SVM classifier\n",
        "svm_classifier = svm.SVC()\n",
        "\n",
        "# Define the hyperparameters to tune and their possible values\n",
        "param_grid = {\n",
        "    'C': [0.1, 1, 10],\n",
        "    'degree': [2, 3, 4],\n",
        "    'coef0': [0.0, 0.5, 1.0]\n",
        "}\n",
        "\n",
        "# Perform grid search cross-validation\n",
        "grid_search = GridSearchCV(svm_classifier, param_grid, cv=5)\n",
        "grid_search.fit(X_train, y_train)\n",
        "\n",
        "# Retrieve the best hyperparameters\n",
        "best_params = grid_search.best_params_\n",
        "\n",
        "# Train the SVM with the best hyperparameters\n",
        "best_svm = svm.SVC(**best_params)\n",
        "best_svm.fit(X_train, y_train)\n",
        "\n",
        "accuracy = best_svm.score(X_test, y_test)\n",
        "print(accuracy)"
      ],
      "metadata": {
        "colab": {
          "base_uri": "https://localhost:8080/"
        },
        "id": "aqGr41qATUcJ",
        "outputId": "ced9ee86-6ceb-417b-dbb6-adff157e0ed9"
      },
      "execution_count": 28,
      "outputs": [
        {
          "output_type": "stream",
          "name": "stdout",
          "text": [
            "0.7806451612903226\n"
          ]
        }
      ]
    },
    {
      "cell_type": "code",
      "source": [
        "svmclf = SVC(kernel='poly', C=10, degree=2, coef0=0.0)\n",
        "svmclf.fit(X_train, y_train)\n",
        "svmaccuracy = svmclf.score(X_test, y_test)\n",
        "print(\"svmAccuracy:\", 100*svmaccuracy)\n",
        ""
      ],
      "metadata": {
        "colab": {
          "base_uri": "https://localhost:8080/"
        },
        "id": "F7TybZqoTagH",
        "outputId": "2be102a1-30ac-4b33-d746-e5e52eb94340"
      },
      "execution_count": 29,
      "outputs": [
        {
          "output_type": "stream",
          "name": "stdout",
          "text": [
            "svmAccuracy: 78.27956989247312\n"
          ]
        }
      ]
    },
    {
      "cell_type": "code",
      "source": [
        "y_pred = svmclf.predict(X_test)\n",
        "print(classification_report(y_test, y_pred))"
      ],
      "metadata": {
        "colab": {
          "base_uri": "https://localhost:8080/"
        },
        "id": "DwqHNRnwraaO",
        "outputId": "3264029e-b9bd-40e3-fbb3-a691af7e2b57"
      },
      "execution_count": 30,
      "outputs": [
        {
          "output_type": "stream",
          "name": "stdout",
          "text": [
            "              precision    recall  f1-score   support\n",
            "\n",
            "           a       0.83      0.86      0.85        35\n",
            "           b       0.63      0.89      0.74        36\n",
            "           c       0.69      0.94      0.79        31\n",
            "           d       0.70      0.82      0.76        38\n",
            "           e       0.97      0.74      0.84        46\n",
            "           f       0.62      0.78      0.69        41\n",
            "           g       0.89      0.80      0.84        30\n",
            "           h       0.74      0.66      0.69        38\n",
            "           i       0.75      0.72      0.73        46\n",
            "           j       0.71      0.91      0.80        33\n",
            "           k       0.94      0.74      0.83        39\n",
            "           l       0.62      0.76      0.68        37\n",
            "           m       0.78      0.69      0.73        42\n",
            "           n       0.79      0.81      0.80        27\n",
            "           o       0.87      0.89      0.88        37\n",
            "           p       0.91      0.91      0.91        32\n",
            "           q       0.96      0.84      0.90        32\n",
            "           r       0.87      0.67      0.75        30\n",
            "           s       0.97      0.88      0.92        33\n",
            "           t       0.64      0.70      0.67        30\n",
            "           u       0.95      0.84      0.89        44\n",
            "           v       0.80      0.74      0.77        43\n",
            "           w       0.74      0.62      0.68        32\n",
            "           x       0.66      0.70      0.68        33\n",
            "           y       0.83      0.71      0.76        34\n",
            "           z       0.89      0.81      0.85        31\n",
            "\n",
            "    accuracy                           0.78       930\n",
            "   macro avg       0.80      0.79      0.79       930\n",
            "weighted avg       0.80      0.78      0.78       930\n",
            "\n"
          ]
        }
      ]
    },
    {
      "cell_type": "code",
      "source": [
        "# Generate confusion matrix\n",
        "cm = confusion_matrix(y_test, y_pred)\n",
        "\n",
        "# Define class labels\n",
        "class_labels = ['a', 'b', 'c', 'd', 'e', 'f', 'g', 'h', 'i', 'j', 'k', 'l', 'm', 'n', 'o', 'p', 'q', 'r', 's', 't', 'u', 'v', 'w', 'x', 'y', 'z']\n",
        "\n",
        "# Create a heatmap using seaborn\n",
        "sns.heatmap(cm, annot=True, cmap='Blues', xticklabels=class_labels, yticklabels=class_labels)\n",
        "\n",
        "# Add labels and title\n",
        "plt.xlabel('Predicted Labels')\n",
        "plt.ylabel('True Labels')\n",
        "plt.title('Confusion Matrix')\n",
        "\n",
        "# Display the plot\n",
        "plt.show()\n",
        "\n",
        "# Print accuracies for each label\n",
        "accuracies = np.diag(cm) / cm.sum(axis=1)\n",
        "for i, accuracy in enumerate(accuracies):\n",
        "    print(f\"{class_labels[i]}: {accuracy:.2f}\")"
      ],
      "metadata": {
        "colab": {
          "base_uri": "https://localhost:8080/",
          "height": 936
        },
        "id": "Orpf1c30ra4e",
        "outputId": "a11bea37-f474-4a30-d2db-9e11ae3609f9"
      },
      "execution_count": 31,
      "outputs": [
        {
          "output_type": "display_data",
          "data": {
            "text/plain": [
              "<Figure size 640x480 with 2 Axes>"
            ],
            "image/png": "[encoded data removed]"
          },
          "metadata": {}
        },
        {
          "output_type": "stream",
          "name": "stdout",
          "text": [
            "a: 0.86\n",
            "b: 0.89\n",
            "c: 0.94\n",
            "d: 0.82\n",
            "e: 0.74\n",
            "f: 0.78\n",
            "g: 0.80\n",
            "h: 0.66\n",
            "i: 0.72\n",
            "j: 0.91\n",
            "k: 0.74\n",
            "l: 0.76\n",
            "m: 0.69\n",
            "n: 0.81\n",
            "o: 0.89\n",
            "p: 0.91\n",
            "q: 0.84\n",
            "r: 0.67\n",
            "s: 0.88\n",
            "t: 0.70\n",
            "u: 0.84\n",
            "v: 0.74\n",
            "w: 0.62\n",
            "x: 0.70\n",
            "y: 0.71\n",
            "z: 0.81\n"
          ]
        }
      ]
    },
    {
      "cell_type": "markdown",
      "source": [
        "Support Vector Machine (SVM) classifier yields the best accuracy on the validation set. Accuracy is the best metric to compare the algorithms as our data is almost balanced on the classes (alphabets). Other metrics such as precision, recall and F1 score are used for different data sets which may be imbalanced.\n",
        "\n",
        "I ran a GridSearchCV on the model by making a standard parameter grid. We get the best ones among that from there and we tried to tweak them manually after that by changing values at intervals and found that it is the best possible combination.\n",
        "\n",
        "C determines the penalty for misclassifications made by the SVM during training. A smaller value of C allows for a larger margin, potentially resulting in a simpler decision boundary but with the risk of misclassifying some training examples. On the other hand, a larger value of C puts a higher penalty on misclassifications, leading to a smaller margin and potentially a more complex decision boundary.\n",
        "\n",
        "In the model increasing the value of C after 9-10 didnt have much of an effect on our accurracy as it becomes a high enough penalty on the misclassifications. Low values of C drastically reduced the accuracy.\n",
        "\n",
        "The degree parameter controls the flexibility or complexity of the decision boundary. It determines the degree of the polynomial used in the kernel function. A higher degree allows the SVM to capture more complex relationships between the data points, potentially leading to a more flexible decision boundary that can fit the training data more closely. However, using a very high degree can also increase the risk of overfitting, where the model may not generalize well to unseen data.\n",
        "\n",
        "When using a linear kernel, the SVM learns a linear decision boundary represented by a hyperplane. The coef_ attribute returns the coefficients of this hyperplane. These coefficients indicate the importance or weight assigned to each feature in the decision-making process.\n",
        "\n",
        "h is at times getting confused and read b. Similarly x is predicted as either f or I. t is at times predicted as c, f and l. v is incorrectly predicted as f. d is incorrectly predicted as a."
      ],
      "metadata": {
        "id": "lfl8MVFmrjxN"
      }
    },
    {
      "cell_type": "markdown",
      "source": [
        "# **Another Approach**"
      ],
      "metadata": {
        "id": "XefXKLfZrnNw"
      }
    },
    {
      "cell_type": "code",
      "source": [
        "# Another alternate algortithm: CNN\n",
        "\n",
        "# Loading images\n",
        "def load_images(folder_path):\n",
        "    images = []\n",
        "    labels = []\n",
        "\n",
        "    for filename in os.listdir(folder_path):\n",
        "        if filename.endswith('.png'):\n",
        "            image_path = os.path.join(folder_path, filename)\n",
        "            label = ord(filename[0]) - ord('a')  # Convert alphabet label to number\n",
        "\n",
        "            image = Image.open(image_path)\n",
        "            image = preprocess(image)\n",
        "            images.append(image)\n",
        "            labels.append(label)\n",
        "\n",
        "    images = np.array(images)\n",
        "    labels = np.array(labels)\n",
        "\n",
        "    return images, labels"
      ],
      "metadata": {
        "id": "z-Da7LvprgLk"
      },
      "execution_count": 32,
      "outputs": []
    },
    {
      "cell_type": "code",
      "source": [
        "# Specify the folder path containing the images\n",
        "folder_path = '/content/drive/MyDrive/Colab Notebooks/sample_split'\n",
        "\n",
        "# Load the images and labels\n",
        "X, y = load_images(folder_path)\n",
        "\n",
        "# Split the data into training and testing sets\n",
        "X_train, X_test, y_train, y_test = train_test_split(X, y, test_size=0.2, random_state=742)\n",
        "\n",
        "# Normalize the pixel values to the range [0, 1]\n",
        "X_train = X_train.astype('float32') / 255.0\n",
        "X_test = X_test.astype('float32') / 255.0\n",
        "\n",
        "# Convert the labels to one-hot encoded vectors\n",
        "num_classes = len(np.unique(y))\n",
        "y_train = to_categorical(y_train, num_classes)\n",
        "y_test = to_categorical(y_test, num_classes)\n",
        "\n",
        "# Define the CNN model\n",
        "model = Sequential()\n",
        "\n",
        "# Adjust the input shape to match your data\n",
        "model.add(Conv2D(32, (3, 3), activation='relu', input_shape=(128, 64, 1)))\n",
        "\n",
        "model.add(MaxPooling2D((2, 2)))\n",
        "model.add(Conv2D(64, (3, 3), activation='relu'))\n",
        "model.add(MaxPooling2D((2, 2)))\n",
        "model.add(Flatten())\n",
        "model.add(Dense(64, activation='relu'))\n",
        "model.add(Dense(num_classes, activation='softmax'))\n",
        "\n",
        "# Compile the model\n",
        "model.compile(optimizer='adam', loss='categorical_crossentropy', metrics=['accuracy'])\n",
        "\n",
        "# Train the model\n",
        "model.fit(X_train, y_train, epochs=50, batch_size=32, validation_data=(X_test, y_test))\n",
        "\n",
        "# Evaluate the model on the test data\n",
        "loss, accuracy = model.evaluate(X_test, y_test)\n",
        "print(\"Accuracy:\", accuracy)"
      ],
      "metadata": {
        "colab": {
          "base_uri": "https://localhost:8080/"
        },
        "id": "ifpkt0UErzQk",
        "outputId": "d9ec93e5-6244-400f-8063-8b5d55fcd8ad"
      },
      "execution_count": 34,
      "outputs": [
        {
          "output_type": "stream",
          "name": "stdout",
          "text": [
            "Epoch 1/50\n",
            "117/117 [==============================] - 2s 11ms/step - loss: 2.9666 - accuracy: 0.1550 - val_loss: 2.2674 - val_accuracy: 0.3505\n",
            "Epoch 2/50\n",
            "117/117 [==============================] - 1s 9ms/step - loss: 1.6148 - accuracy: 0.5421 - val_loss: 1.3826 - val_accuracy: 0.6022\n",
            "Epoch 3/50\n",
            "117/117 [==============================] - 1s 10ms/step - loss: 0.8333 - accuracy: 0.7549 - val_loss: 1.0819 - val_accuracy: 0.6785\n",
            "Epoch 4/50\n",
            "117/117 [==============================] - 1s 10ms/step - loss: 0.4364 - accuracy: 0.8725 - val_loss: 0.8987 - val_accuracy: 0.7333\n",
            "Epoch 5/50\n",
            "117/117 [==============================] - 1s 10ms/step - loss: 0.1995 - accuracy: 0.9497 - val_loss: 0.9881 - val_accuracy: 0.7247\n",
            "Epoch 6/50\n",
            "117/117 [==============================] - 1s 9ms/step - loss: 0.0936 - accuracy: 0.9793 - val_loss: 1.0222 - val_accuracy: 0.7333\n",
            "Epoch 7/50\n",
            "117/117 [==============================] - 1s 9ms/step - loss: 0.0304 - accuracy: 0.9978 - val_loss: 1.1602 - val_accuracy: 0.7301\n",
            "Epoch 8/50\n",
            "117/117 [==============================] - 1s 9ms/step - loss: 0.0115 - accuracy: 0.9997 - val_loss: 1.1677 - val_accuracy: 0.7430\n",
            "Epoch 9/50\n",
            "117/117 [==============================] - 1s 9ms/step - loss: 0.0052 - accuracy: 1.0000 - val_loss: 1.2359 - val_accuracy: 0.7376\n",
            "Epoch 10/50\n",
            "117/117 [==============================] - 1s 9ms/step - loss: 0.0030 - accuracy: 1.0000 - val_loss: 1.2700 - val_accuracy: 0.7323\n",
            "Epoch 11/50\n",
            "117/117 [==============================] - 1s 9ms/step - loss: 0.0022 - accuracy: 1.0000 - val_loss: 1.3036 - val_accuracy: 0.7398\n",
            "Epoch 12/50\n",
            "117/117 [==============================] - 1s 9ms/step - loss: 0.0018 - accuracy: 1.0000 - val_loss: 1.3365 - val_accuracy: 0.7376\n",
            "Epoch 13/50\n",
            "117/117 [==============================] - 1s 9ms/step - loss: 0.0015 - accuracy: 1.0000 - val_loss: 1.3542 - val_accuracy: 0.7387\n",
            "Epoch 14/50\n",
            "117/117 [==============================] - 1s 9ms/step - loss: 0.0012 - accuracy: 1.0000 - val_loss: 1.3772 - val_accuracy: 0.7366\n",
            "Epoch 15/50\n",
            "117/117 [==============================] - 1s 9ms/step - loss: 0.0010 - accuracy: 1.0000 - val_loss: 1.4048 - val_accuracy: 0.7376\n",
            "Epoch 16/50\n",
            "117/117 [==============================] - 1s 10ms/step - loss: 8.6610e-04 - accuracy: 1.0000 - val_loss: 1.4186 - val_accuracy: 0.7376\n",
            "Epoch 17/50\n",
            "117/117 [==============================] - 1s 10ms/step - loss: 7.5336e-04 - accuracy: 1.0000 - val_loss: 1.4357 - val_accuracy: 0.7387\n",
            "Epoch 18/50\n",
            "117/117 [==============================] - 1s 10ms/step - loss: 6.5236e-04 - accuracy: 1.0000 - val_loss: 1.4571 - val_accuracy: 0.7355\n",
            "Epoch 19/50\n",
            "117/117 [==============================] - 1s 9ms/step - loss: 5.7229e-04 - accuracy: 1.0000 - val_loss: 1.4681 - val_accuracy: 0.7355\n",
            "Epoch 20/50\n",
            "117/117 [==============================] - 1s 9ms/step - loss: 5.0020e-04 - accuracy: 1.0000 - val_loss: 1.4872 - val_accuracy: 0.7376\n",
            "Epoch 21/50\n",
            "117/117 [==============================] - 1s 9ms/step - loss: 4.4120e-04 - accuracy: 1.0000 - val_loss: 1.5055 - val_accuracy: 0.7398\n",
            "Epoch 22/50\n",
            "117/117 [==============================] - 1s 9ms/step - loss: 3.9346e-04 - accuracy: 1.0000 - val_loss: 1.5203 - val_accuracy: 0.7344\n",
            "Epoch 23/50\n",
            "117/117 [==============================] - 1s 9ms/step - loss: 3.4822e-04 - accuracy: 1.0000 - val_loss: 1.5304 - val_accuracy: 0.7376\n",
            "Epoch 24/50\n",
            "117/117 [==============================] - 1s 9ms/step - loss: 3.1306e-04 - accuracy: 1.0000 - val_loss: 1.5446 - val_accuracy: 0.7344\n",
            "Epoch 25/50\n",
            "117/117 [==============================] - 1s 9ms/step - loss: 2.8093e-04 - accuracy: 1.0000 - val_loss: 1.5556 - val_accuracy: 0.7376\n",
            "Epoch 26/50\n",
            "117/117 [==============================] - 1s 9ms/step - loss: 2.5207e-04 - accuracy: 1.0000 - val_loss: 1.5722 - val_accuracy: 0.7344\n",
            "Epoch 27/50\n",
            "117/117 [==============================] - 1s 9ms/step - loss: 2.2857e-04 - accuracy: 1.0000 - val_loss: 1.5836 - val_accuracy: 0.7355\n",
            "Epoch 28/50\n",
            "117/117 [==============================] - 1s 10ms/step - loss: 2.0453e-04 - accuracy: 1.0000 - val_loss: 1.5886 - val_accuracy: 0.7366\n",
            "Epoch 29/50\n",
            "117/117 [==============================] - 1s 11ms/step - loss: 1.8553e-04 - accuracy: 1.0000 - val_loss: 1.6041 - val_accuracy: 0.7355\n",
            "Epoch 30/50\n",
            "117/117 [==============================] - 1s 10ms/step - loss: 1.6777e-04 - accuracy: 1.0000 - val_loss: 1.6192 - val_accuracy: 0.7366\n",
            "Epoch 31/50\n",
            "117/117 [==============================] - 1s 9ms/step - loss: 1.5176e-04 - accuracy: 1.0000 - val_loss: 1.6250 - val_accuracy: 0.7344\n",
            "Epoch 32/50\n",
            "117/117 [==============================] - 1s 9ms/step - loss: 1.3839e-04 - accuracy: 1.0000 - val_loss: 1.6349 - val_accuracy: 0.7355\n",
            "Epoch 33/50\n",
            "117/117 [==============================] - 1s 9ms/step - loss: 1.2545e-04 - accuracy: 1.0000 - val_loss: 1.6512 - val_accuracy: 0.7333\n",
            "Epoch 34/50\n",
            "117/117 [==============================] - 1s 9ms/step - loss: 1.1429e-04 - accuracy: 1.0000 - val_loss: 1.6618 - val_accuracy: 0.7333\n",
            "Epoch 35/50\n",
            "117/117 [==============================] - 1s 9ms/step - loss: 1.0403e-04 - accuracy: 1.0000 - val_loss: 1.6684 - val_accuracy: 0.7355\n",
            "Epoch 36/50\n",
            "117/117 [==============================] - 1s 9ms/step - loss: 9.4750e-05 - accuracy: 1.0000 - val_loss: 1.6811 - val_accuracy: 0.7376\n",
            "Epoch 37/50\n",
            "117/117 [==============================] - 1s 9ms/step - loss: 8.6167e-05 - accuracy: 1.0000 - val_loss: 1.6879 - val_accuracy: 0.7387\n",
            "Epoch 38/50\n",
            "117/117 [==============================] - 1s 9ms/step - loss: 7.8803e-05 - accuracy: 1.0000 - val_loss: 1.7000 - val_accuracy: 0.7376\n",
            "Epoch 39/50\n",
            "117/117 [==============================] - 1s 9ms/step - loss: 7.1279e-05 - accuracy: 1.0000 - val_loss: 1.7116 - val_accuracy: 0.7355\n",
            "Epoch 40/50\n",
            "117/117 [==============================] - 1s 10ms/step - loss: 6.5453e-05 - accuracy: 1.0000 - val_loss: 1.7203 - val_accuracy: 0.7376\n",
            "Epoch 41/50\n",
            "117/117 [==============================] - 1s 10ms/step - loss: 5.9700e-05 - accuracy: 1.0000 - val_loss: 1.7289 - val_accuracy: 0.7387\n",
            "Epoch 42/50\n",
            "117/117 [==============================] - 1s 11ms/step - loss: 5.4523e-05 - accuracy: 1.0000 - val_loss: 1.7384 - val_accuracy: 0.7355\n",
            "Epoch 43/50\n",
            "117/117 [==============================] - 1s 9ms/step - loss: 4.9780e-05 - accuracy: 1.0000 - val_loss: 1.7469 - val_accuracy: 0.7366\n",
            "Epoch 44/50\n",
            "117/117 [==============================] - 1s 9ms/step - loss: 4.5361e-05 - accuracy: 1.0000 - val_loss: 1.7574 - val_accuracy: 0.7366\n",
            "Epoch 45/50\n",
            "117/117 [==============================] - 1s 9ms/step - loss: 4.1578e-05 - accuracy: 1.0000 - val_loss: 1.7688 - val_accuracy: 0.7366\n",
            "Epoch 46/50\n",
            "117/117 [==============================] - 1s 9ms/step - loss: 3.8003e-05 - accuracy: 1.0000 - val_loss: 1.7767 - val_accuracy: 0.7376\n",
            "Epoch 47/50\n",
            "117/117 [==============================] - 1s 9ms/step - loss: 3.4543e-05 - accuracy: 1.0000 - val_loss: 1.7871 - val_accuracy: 0.7387\n",
            "Epoch 48/50\n",
            "117/117 [==============================] - 1s 9ms/step - loss: 3.1664e-05 - accuracy: 1.0000 - val_loss: 1.7931 - val_accuracy: 0.7387\n",
            "Epoch 49/50\n",
            "117/117 [==============================] - 1s 9ms/step - loss: 2.8951e-05 - accuracy: 1.0000 - val_loss: 1.8067 - val_accuracy: 0.7398\n",
            "Epoch 50/50\n",
            "117/117 [==============================] - 1s 9ms/step - loss: 2.6633e-05 - accuracy: 1.0000 - val_loss: 1.8134 - val_accuracy: 0.7355\n",
            "30/30 [==============================] - 0s 4ms/step - loss: 1.8134 - accuracy: 0.7355\n",
            "Accuracy: 0.7354838848114014\n"
          ]
        }
      ]
    }
  ]
}